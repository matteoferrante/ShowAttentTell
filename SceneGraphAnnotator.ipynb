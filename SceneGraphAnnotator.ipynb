{
 "cells": [
  {
   "cell_type": "markdown",
   "id": "0f09591d-2bbb-4bdc-b22b-c9cbcdfce8f8",
   "metadata": {},
   "source": [
    "## Image captioning \n",
    "inspired and translated into pytorch from https://www.tensorflow.org/tutorials/text/image_captioning\n",
    "\n",
    "\n",
    "the idea is:\n",
    "1) encode images with a pretrained model\n",
    "2) process captions (remove punctuation, tokenization, vectorization)\n",
    "3) https://arxiv.org/pdf/1502.03044.pdf architecture"
   ]
  },
  {
   "cell_type": "code",
   "execution_count": 1,
   "id": "f3674c11-f084-4ed2-b296-4f4019a3afee",
   "metadata": {},
   "outputs": [
    {
     "name": "stdout",
     "output_type": "stream",
     "text": [
      "Looking in indexes: https://pypi.org/simple, https://pypi.ngc.nvidia.com\n",
      "Collecting torchtext==0.11\n",
      "  Downloading torchtext-0.11.0-cp39-cp39-manylinux1_x86_64.whl (8.0 MB)\n",
      "\u001b[2K     \u001b[90m━━━━━━━━━━━━━━━━━━━━━━━━━━━━━━━━━━━━━━━━\u001b[0m \u001b[32m8.0/8.0 MB\u001b[0m \u001b[31m45.3 MB/s\u001b[0m eta \u001b[36m0:00:00\u001b[0ma \u001b[36m0:00:01\u001b[0m\n",
      "\u001b[?25hRequirement already satisfied: tqdm in /home/matteo/anaconda3/envs/pytorch/lib/python3.9/site-packages (from torchtext==0.11) (4.62.2)\n",
      "Requirement already satisfied: requests in /home/matteo/anaconda3/envs/pytorch/lib/python3.9/site-packages (from torchtext==0.11) (2.26.0)\n",
      "Requirement already satisfied: numpy in /home/matteo/anaconda3/envs/pytorch/lib/python3.9/site-packages (from torchtext==0.11) (1.20.3)\n",
      "Collecting torch==1.10.0\n",
      "  Downloading torch-1.10.0-cp39-cp39-manylinux1_x86_64.whl (881.9 MB)\n",
      "\u001b[2K     \u001b[90m━━━━━━━━━━━━━━━━━━━━━━━━━━━━━━━━━━━━━━\u001b[0m \u001b[32m881.9/881.9 MB\u001b[0m \u001b[31m54.1 MB/s\u001b[0m eta \u001b[36m0:00:00\u001b[0m00:01\u001b[0m00:01\u001b[0m\n",
      "\u001b[?25hRequirement already satisfied: typing-extensions in /home/matteo/anaconda3/envs/pytorch/lib/python3.9/site-packages (from torch==1.10.0->torchtext==0.11) (3.10.0.0)\n",
      "Requirement already satisfied: certifi>=2017.4.17 in /home/matteo/anaconda3/envs/pytorch/lib/python3.9/site-packages (from requests->torchtext==0.11) (2021.10.8)\n",
      "Requirement already satisfied: idna<4,>=2.5 in /home/matteo/anaconda3/envs/pytorch/lib/python3.9/site-packages (from requests->torchtext==0.11) (3.2)\n",
      "Requirement already satisfied: urllib3<1.27,>=1.21.1 in /home/matteo/anaconda3/envs/pytorch/lib/python3.9/site-packages (from requests->torchtext==0.11) (1.26.6)\n",
      "Requirement already satisfied: charset-normalizer~=2.0.0 in /home/matteo/anaconda3/envs/pytorch/lib/python3.9/site-packages (from requests->torchtext==0.11) (2.0.4)\n",
      "Installing collected packages: torch, torchtext\n",
      "  Attempting uninstall: torch\n",
      "    Found existing installation: torch 1.11.0\n",
      "    Uninstalling torch-1.11.0:\n",
      "      Successfully uninstalled torch-1.11.0\n",
      "  Attempting uninstall: torchtext\n",
      "    Found existing installation: torchtext 0.12.0\n",
      "    Uninstalling torchtext-0.12.0:\n",
      "      Successfully uninstalled torchtext-0.12.0\n",
      "Successfully installed torch-1.10.0 torchtext-0.11.0\n"
     ]
    }
   ],
   "source": [
    "#!pip uninstall opencv-python-headless -y\n",
    "#!pip install opencv-python-headless==4.3.0.38\n",
    "#!pip install --upgrade pip setuptools wheel\n",
    "#!pip uninstall fiftyone -y\n",
    "#!pip install fiftyone==0.14.2 --user\n",
    "#!pip install git+https://github.com/waleedka/cocoapi.git#egg=pycocotools&subdirectory=PythonAPI\n",
    "#!pip install torchextractor\n",
    "#!pip install torchtext==0.11\n",
    "#!pip install torch==1.10"
   ]
  },
  {
   "cell_type": "code",
   "execution_count": 26,
   "id": "19825d0b-a3b8-4f0d-9e6a-f83f7349d00d",
   "metadata": {},
   "outputs": [],
   "source": [
    "import torch\n",
    "from torch.utils.data import Dataset,DataLoader, Subset\n",
    "from torchvision import transforms\n",
    "import numpy as np\n",
    "from PIL import Image\n",
    "import tqdm\n",
    "import os\n",
    "\n",
    "from torch import nn\n",
    "\n",
    "from pycocotools.coco import COCO\n",
    "\n",
    "import json\n",
    "import matplotlib.pyplot as plt\n",
    "\n",
    "\n",
    "import torch\n",
    "import re\n",
    "\n",
    "\n",
    "import torchextractor as tx\n",
    "import torchtext\n",
    "from torchtext.data.utils import get_tokenizer\n",
    "\n",
    "\n",
    "device=\"cuda:1\"\n",
    "import collections\n",
    "import random\n",
    "\n",
    "from torchsummary import summary\n",
    "\n",
    "from torchtext.vocab import vocab\n",
    "from typing import Dict, Iterable, Optional, List\n",
    "from collections import Counter, OrderedDict"
   ]
  },
  {
   "cell_type": "code",
   "execution_count": 31,
   "id": "00fb9b75",
   "metadata": {},
   "outputs": [],
   "source": [
    "def build_vocab_from_iterator(iterator: Iterable, min_freq: int = 1, specials: Optional[List[str]] = None, special_first: bool = True, max_tokens: Optional[int] = None) -> Vocab:\n",
    "    \"\"\"\n",
    "    Build a Vocab from an iterator.\n",
    "\n",
    "    Args:\n",
    "        iterator: Iterator used to build Vocab. Must yield list or iterator of tokens.\n",
    "        min_freq: The minimum frequency needed to include a token in the vocabulary.\n",
    "        specials: Special symbols to add. The order of supplied tokens will be preserved.\n",
    "        special_first: Indicates whether to insert symbols at the beginning or at the end.\n",
    "        max_tokens: If provided, creates the vocab from the `max_tokens - len(specials)` most frequent tokens.\n",
    "\n",
    "\n",
    "    Returns:\n",
    "        torchtext.vocab.Vocab: A `Vocab` object\n",
    "\n",
    "    Examples:\n",
    "        >>> #generating vocab from text file\n",
    "        >>> import io\n",
    "        >>> from torchtext.vocab import build_vocab_from_iterator\n",
    "        >>> def yield_tokens(file_path):\n",
    "        >>>     with io.open(file_path, encoding = 'utf-8') as f:\n",
    "        >>>         for line in f:\n",
    "        >>>             yield line.strip().split()\n",
    "        >>> vocab = build_vocab_from_iterator(yield_tokens(file_path), specials=[\"<unk>\"])\n",
    "    \"\"\"\n",
    "\n",
    "    counter = Counter()\n",
    "    for tokens in iterator:\n",
    "        counter.update(tokens)\n",
    "\n",
    "    specials = specials or []\n",
    "\n",
    "\n",
    "\n",
    "    # First sort by descending frequency, then lexicographically\n",
    "    sorted_by_freq_tuples = sorted(counter.items(), key=lambda x: (-x[1], x[0]))\n",
    "\n",
    "    if max_tokens is None:\n",
    "        ordered_dict = OrderedDict(sorted_by_freq_tuples)\n",
    "    else:\n",
    "        assert len(specials) < max_tokens, \"len(specials) >= max_tokens, so the vocab will be entirely special tokens.\"\n",
    "        ordered_dict = OrderedDict(sorted_by_freq_tuples[:max_tokens - len(specials)])\n",
    "\n",
    "\n",
    "    if specials is not None:\n",
    "        if special_first:\n",
    "            specials = specials[::-1]\n",
    "        for symbol in specials:\n",
    "            ordered_dict.update({symbol: min_freq})\n",
    "            ordered_dict.move_to_end(symbol, last=not special_first)\n",
    "\n",
    "\n",
    "\n",
    "    word_vocab = vocab(ordered_dict, min_freq=min_freq)\n",
    "    return word_vocab"
   ]
  },
  {
   "cell_type": "code",
   "execution_count": 4,
   "id": "18c74d64-7ea6-4360-958a-4e5e27caf277",
   "metadata": {},
   "outputs": [],
   "source": [
    "class COCOAnnotDataset(Dataset):\n",
    "    \"\"\"Face Landmarks dataset.\"\"\"\n",
    "\n",
    "    def __init__(self, img_dir, annot_file, transform=None):\n",
    "        \"\"\"\n",
    "        Args:\n",
    "            csv_file (string): Path to the csv file with annotations.\n",
    "            root_dir (string): Directory with all the images.\n",
    "            transform (callable, optional): Optional transform to be applied\n",
    "                on a sample.\n",
    "        \"\"\"\n",
    "        self.img_dir = img_dir\n",
    "        self.annot_file = annot_file\n",
    "        self.transform = transform\n",
    "        \n",
    "        self.coco=COCO(annot_file)\n",
    "        self.indices=self.coco.getAnnIds();\n",
    "\n",
    "    def __len__(self):\n",
    "        return len(self.indices)\n",
    "\n",
    "    def __getitem__(self, idx):\n",
    "        \n",
    "        \n",
    "        #caption\n",
    "        ann = self.coco.loadAnns(self.indices[idx])[0]\n",
    "        \n",
    "        image_id=ann[\"image_id\"]\n",
    "        \n",
    "        caption=caption = f\"<start> {ann['caption']} <end>\"\n",
    "        \n",
    "        #image id\n",
    "        img = self.coco.loadImgs(image_id)[0]\n",
    "        path=os.path.join(self.img_dir,img[\"file_name\"])\n",
    "        \n",
    "        img = Image.open(path).convert('RGB') \n",
    "        \n",
    "        if self.transform:\n",
    "            img = self.transform(img)\n",
    "\n",
    "        return img,path,caption"
   ]
  },
  {
   "cell_type": "code",
   "execution_count": 5,
   "id": "bc478cfc-46c3-4fc0-a189-7e39902fb879",
   "metadata": {},
   "outputs": [
    {
     "name": "stdout",
     "output_type": "stream",
     "text": [
      "loading annotations into memory...\n",
      "Done (t=0.37s)\n",
      "creating index...\n",
      "index created!\n"
     ]
    }
   ],
   "source": [
    "img_dir=\"/space/matteo/BOLD5000/COCO/val2014\"\n",
    "annot_file='/space/matteo/BOLD5000/COCO/annotations/captions_val2014.json'\n",
    "\n",
    "preprocess = transforms.Compose([\n",
    "    transforms.Resize(299),\n",
    "    transforms.CenterCrop(299),\n",
    "    transforms.ToTensor(),\n",
    "    transforms.Normalize(mean=[0.485, 0.456, 0.406], std=[0.229, 0.224, 0.225]),\n",
    "])\n",
    "\n",
    "train_dataset=COCOAnnotDataset(img_dir,annot_file,transform=preprocess)\n",
    "\n",
    "\n"
   ]
  },
  {
   "cell_type": "code",
   "execution_count": 6,
   "id": "ce73adf5-37cc-410c-b4f3-c2d9294bfcac",
   "metadata": {},
   "outputs": [],
   "source": [
    "x,p,y=next(iter(train_dataset))"
   ]
  },
  {
   "cell_type": "code",
   "execution_count": 7,
   "id": "433c3b98-6d50-4885-a12c-b4931fe6f845",
   "metadata": {},
   "outputs": [
    {
     "name": "stderr",
     "output_type": "stream",
     "text": [
      "Clipping input data to the valid range for imshow with RGB data ([0..1] for floats or [0..255] for integers).\n"
     ]
    },
    {
     "data": {
      "image/png": "[encoded data removed]",
      "text/plain": [
       "<Figure size 640x480 with 1 Axes>"
      ]
     },
     "metadata": {},
     "output_type": "display_data"
    }
   ],
   "source": [
    "plt.imshow(x.permute(1,2,0))\n",
    "plt.title(y)\n",
    "\n",
    "plt.show()"
   ]
  },
  {
   "cell_type": "code",
   "execution_count": 8,
   "id": "de28960a-82b4-4572-98c0-470e31e31f41",
   "metadata": {},
   "outputs": [],
   "source": [
    "with open(annot_file, 'r') as f:\n",
    "    annotations = json.load(f)\n",
    "\n",
    "image_path_to_caption = collections.defaultdict(list)\n",
    "for val in annotations['annotations']:\n",
    "    caption = f\"<start> {val['caption']} <end>\"\n",
    "    image_path = img_dir + '/COCO_val2014_%012d.jpg' % (val['image_id'])\n",
    "    image_path_to_caption[image_path].append(caption)\n",
    "    \n",
    "    \n"
   ]
  },
  {
   "cell_type": "code",
   "execution_count": 9,
   "id": "84a19273-0ebe-4dcd-8ec4-8625f947322b",
   "metadata": {},
   "outputs": [
    {
     "name": "stdout",
     "output_type": "stream",
     "text": [
      "6000\n"
     ]
    }
   ],
   "source": [
    "image_paths = list(image_path_to_caption.keys())\n",
    "random.shuffle(image_paths)\n",
    "\n",
    "# Select the first 6000 image_paths from the shuffled set.\n",
    "# Approximately each image id has 5 captions associated with it, so that will\n",
    "# lead to 30,000 examples.\n",
    "train_image_paths = image_paths[:6000]\n",
    "print(len(train_image_paths))"
   ]
  },
  {
   "cell_type": "code",
   "execution_count": 10,
   "id": "a4402f5f-914b-424a-8c23-0b3585f7f9f7",
   "metadata": {},
   "outputs": [],
   "source": [
    "train_captions = []\n",
    "img_name_vector = []\n",
    "\n",
    "for image_path in train_image_paths:\n",
    "    caption_list = image_path_to_caption[image_path]\n",
    "    train_captions.extend(caption_list)\n",
    "    img_name_vector.extend([image_path] * len(caption_list))"
   ]
  },
  {
   "cell_type": "markdown",
   "id": "334d208b-67b7-4c83-aaba-164ef1a06884",
   "metadata": {},
   "source": [
    "## InceptionV3 representations"
   ]
  },
  {
   "cell_type": "code",
   "execution_count": 11,
   "id": "08a0f148-85b9-45e8-b039-5fbd16250882",
   "metadata": {},
   "outputs": [
    {
     "name": "stderr",
     "output_type": "stream",
     "text": [
      "Using cache found in /home/matteo/.cache/torch/hub/pytorch_vision_v0.10.0\n"
     ]
    },
    {
     "data": {
      "text/plain": [
       "['',\n",
       " 'Conv2d_1a_3x3',\n",
       " 'Conv2d_1a_3x3.conv',\n",
       " 'Conv2d_1a_3x3.bn',\n",
       " 'Conv2d_2a_3x3',\n",
       " 'Conv2d_2a_3x3.conv',\n",
       " 'Conv2d_2a_3x3.bn',\n",
       " 'Conv2d_2b_3x3',\n",
       " 'Conv2d_2b_3x3.conv',\n",
       " 'Conv2d_2b_3x3.bn',\n",
       " 'maxpool1',\n",
       " 'Conv2d_3b_1x1',\n",
       " 'Conv2d_3b_1x1.conv',\n",
       " 'Conv2d_3b_1x1.bn',\n",
       " 'Conv2d_4a_3x3',\n",
       " 'Conv2d_4a_3x3.conv',\n",
       " 'Conv2d_4a_3x3.bn',\n",
       " 'maxpool2',\n",
       " 'Mixed_5b',\n",
       " 'Mixed_5b.branch1x1',\n",
       " 'Mixed_5b.branch1x1.conv',\n",
       " 'Mixed_5b.branch1x1.bn',\n",
       " 'Mixed_5b.branch5x5_1',\n",
       " 'Mixed_5b.branch5x5_1.conv',\n",
       " 'Mixed_5b.branch5x5_1.bn',\n",
       " 'Mixed_5b.branch5x5_2',\n",
       " 'Mixed_5b.branch5x5_2.conv',\n",
       " 'Mixed_5b.branch5x5_2.bn',\n",
       " 'Mixed_5b.branch3x3dbl_1',\n",
       " 'Mixed_5b.branch3x3dbl_1.conv',\n",
       " 'Mixed_5b.branch3x3dbl_1.bn',\n",
       " 'Mixed_5b.branch3x3dbl_2',\n",
       " 'Mixed_5b.branch3x3dbl_2.conv',\n",
       " 'Mixed_5b.branch3x3dbl_2.bn',\n",
       " 'Mixed_5b.branch3x3dbl_3',\n",
       " 'Mixed_5b.branch3x3dbl_3.conv',\n",
       " 'Mixed_5b.branch3x3dbl_3.bn',\n",
       " 'Mixed_5b.branch_pool',\n",
       " 'Mixed_5b.branch_pool.conv',\n",
       " 'Mixed_5b.branch_pool.bn',\n",
       " 'Mixed_5c',\n",
       " 'Mixed_5c.branch1x1',\n",
       " 'Mixed_5c.branch1x1.conv',\n",
       " 'Mixed_5c.branch1x1.bn',\n",
       " 'Mixed_5c.branch5x5_1',\n",
       " 'Mixed_5c.branch5x5_1.conv',\n",
       " 'Mixed_5c.branch5x5_1.bn',\n",
       " 'Mixed_5c.branch5x5_2',\n",
       " 'Mixed_5c.branch5x5_2.conv',\n",
       " 'Mixed_5c.branch5x5_2.bn',\n",
       " 'Mixed_5c.branch3x3dbl_1',\n",
       " 'Mixed_5c.branch3x3dbl_1.conv',\n",
       " 'Mixed_5c.branch3x3dbl_1.bn',\n",
       " 'Mixed_5c.branch3x3dbl_2',\n",
       " 'Mixed_5c.branch3x3dbl_2.conv',\n",
       " 'Mixed_5c.branch3x3dbl_2.bn',\n",
       " 'Mixed_5c.branch3x3dbl_3',\n",
       " 'Mixed_5c.branch3x3dbl_3.conv',\n",
       " 'Mixed_5c.branch3x3dbl_3.bn',\n",
       " 'Mixed_5c.branch_pool',\n",
       " 'Mixed_5c.branch_pool.conv',\n",
       " 'Mixed_5c.branch_pool.bn',\n",
       " 'Mixed_5d',\n",
       " 'Mixed_5d.branch1x1',\n",
       " 'Mixed_5d.branch1x1.conv',\n",
       " 'Mixed_5d.branch1x1.bn',\n",
       " 'Mixed_5d.branch5x5_1',\n",
       " 'Mixed_5d.branch5x5_1.conv',\n",
       " 'Mixed_5d.branch5x5_1.bn',\n",
       " 'Mixed_5d.branch5x5_2',\n",
       " 'Mixed_5d.branch5x5_2.conv',\n",
       " 'Mixed_5d.branch5x5_2.bn',\n",
       " 'Mixed_5d.branch3x3dbl_1',\n",
       " 'Mixed_5d.branch3x3dbl_1.conv',\n",
       " 'Mixed_5d.branch3x3dbl_1.bn',\n",
       " 'Mixed_5d.branch3x3dbl_2',\n",
       " 'Mixed_5d.branch3x3dbl_2.conv',\n",
       " 'Mixed_5d.branch3x3dbl_2.bn',\n",
       " 'Mixed_5d.branch3x3dbl_3',\n",
       " 'Mixed_5d.branch3x3dbl_3.conv',\n",
       " 'Mixed_5d.branch3x3dbl_3.bn',\n",
       " 'Mixed_5d.branch_pool',\n",
       " 'Mixed_5d.branch_pool.conv',\n",
       " 'Mixed_5d.branch_pool.bn',\n",
       " 'Mixed_6a',\n",
       " 'Mixed_6a.branch3x3',\n",
       " 'Mixed_6a.branch3x3.conv',\n",
       " 'Mixed_6a.branch3x3.bn',\n",
       " 'Mixed_6a.branch3x3dbl_1',\n",
       " 'Mixed_6a.branch3x3dbl_1.conv',\n",
       " 'Mixed_6a.branch3x3dbl_1.bn',\n",
       " 'Mixed_6a.branch3x3dbl_2',\n",
       " 'Mixed_6a.branch3x3dbl_2.conv',\n",
       " 'Mixed_6a.branch3x3dbl_2.bn',\n",
       " 'Mixed_6a.branch3x3dbl_3',\n",
       " 'Mixed_6a.branch3x3dbl_3.conv',\n",
       " 'Mixed_6a.branch3x3dbl_3.bn',\n",
       " 'Mixed_6b',\n",
       " 'Mixed_6b.branch1x1',\n",
       " 'Mixed_6b.branch1x1.conv',\n",
       " 'Mixed_6b.branch1x1.bn',\n",
       " 'Mixed_6b.branch7x7_1',\n",
       " 'Mixed_6b.branch7x7_1.conv',\n",
       " 'Mixed_6b.branch7x7_1.bn',\n",
       " 'Mixed_6b.branch7x7_2',\n",
       " 'Mixed_6b.branch7x7_2.conv',\n",
       " 'Mixed_6b.branch7x7_2.bn',\n",
       " 'Mixed_6b.branch7x7_3',\n",
       " 'Mixed_6b.branch7x7_3.conv',\n",
       " 'Mixed_6b.branch7x7_3.bn',\n",
       " 'Mixed_6b.branch7x7dbl_1',\n",
       " 'Mixed_6b.branch7x7dbl_1.conv',\n",
       " 'Mixed_6b.branch7x7dbl_1.bn',\n",
       " 'Mixed_6b.branch7x7dbl_2',\n",
       " 'Mixed_6b.branch7x7dbl_2.conv',\n",
       " 'Mixed_6b.branch7x7dbl_2.bn',\n",
       " 'Mixed_6b.branch7x7dbl_3',\n",
       " 'Mixed_6b.branch7x7dbl_3.conv',\n",
       " 'Mixed_6b.branch7x7dbl_3.bn',\n",
       " 'Mixed_6b.branch7x7dbl_4',\n",
       " 'Mixed_6b.branch7x7dbl_4.conv',\n",
       " 'Mixed_6b.branch7x7dbl_4.bn',\n",
       " 'Mixed_6b.branch7x7dbl_5',\n",
       " 'Mixed_6b.branch7x7dbl_5.conv',\n",
       " 'Mixed_6b.branch7x7dbl_5.bn',\n",
       " 'Mixed_6b.branch_pool',\n",
       " 'Mixed_6b.branch_pool.conv',\n",
       " 'Mixed_6b.branch_pool.bn',\n",
       " 'Mixed_6c',\n",
       " 'Mixed_6c.branch1x1',\n",
       " 'Mixed_6c.branch1x1.conv',\n",
       " 'Mixed_6c.branch1x1.bn',\n",
       " 'Mixed_6c.branch7x7_1',\n",
       " 'Mixed_6c.branch7x7_1.conv',\n",
       " 'Mixed_6c.branch7x7_1.bn',\n",
       " 'Mixed_6c.branch7x7_2',\n",
       " 'Mixed_6c.branch7x7_2.conv',\n",
       " 'Mixed_6c.branch7x7_2.bn',\n",
       " 'Mixed_6c.branch7x7_3',\n",
       " 'Mixed_6c.branch7x7_3.conv',\n",
       " 'Mixed_6c.branch7x7_3.bn',\n",
       " 'Mixed_6c.branch7x7dbl_1',\n",
       " 'Mixed_6c.branch7x7dbl_1.conv',\n",
       " 'Mixed_6c.branch7x7dbl_1.bn',\n",
       " 'Mixed_6c.branch7x7dbl_2',\n",
       " 'Mixed_6c.branch7x7dbl_2.conv',\n",
       " 'Mixed_6c.branch7x7dbl_2.bn',\n",
       " 'Mixed_6c.branch7x7dbl_3',\n",
       " 'Mixed_6c.branch7x7dbl_3.conv',\n",
       " 'Mixed_6c.branch7x7dbl_3.bn',\n",
       " 'Mixed_6c.branch7x7dbl_4',\n",
       " 'Mixed_6c.branch7x7dbl_4.conv',\n",
       " 'Mixed_6c.branch7x7dbl_4.bn',\n",
       " 'Mixed_6c.branch7x7dbl_5',\n",
       " 'Mixed_6c.branch7x7dbl_5.conv',\n",
       " 'Mixed_6c.branch7x7dbl_5.bn',\n",
       " 'Mixed_6c.branch_pool',\n",
       " 'Mixed_6c.branch_pool.conv',\n",
       " 'Mixed_6c.branch_pool.bn',\n",
       " 'Mixed_6d',\n",
       " 'Mixed_6d.branch1x1',\n",
       " 'Mixed_6d.branch1x1.conv',\n",
       " 'Mixed_6d.branch1x1.bn',\n",
       " 'Mixed_6d.branch7x7_1',\n",
       " 'Mixed_6d.branch7x7_1.conv',\n",
       " 'Mixed_6d.branch7x7_1.bn',\n",
       " 'Mixed_6d.branch7x7_2',\n",
       " 'Mixed_6d.branch7x7_2.conv',\n",
       " 'Mixed_6d.branch7x7_2.bn',\n",
       " 'Mixed_6d.branch7x7_3',\n",
       " 'Mixed_6d.branch7x7_3.conv',\n",
       " 'Mixed_6d.branch7x7_3.bn',\n",
       " 'Mixed_6d.branch7x7dbl_1',\n",
       " 'Mixed_6d.branch7x7dbl_1.conv',\n",
       " 'Mixed_6d.branch7x7dbl_1.bn',\n",
       " 'Mixed_6d.branch7x7dbl_2',\n",
       " 'Mixed_6d.branch7x7dbl_2.conv',\n",
       " 'Mixed_6d.branch7x7dbl_2.bn',\n",
       " 'Mixed_6d.branch7x7dbl_3',\n",
       " 'Mixed_6d.branch7x7dbl_3.conv',\n",
       " 'Mixed_6d.branch7x7dbl_3.bn',\n",
       " 'Mixed_6d.branch7x7dbl_4',\n",
       " 'Mixed_6d.branch7x7dbl_4.conv',\n",
       " 'Mixed_6d.branch7x7dbl_4.bn',\n",
       " 'Mixed_6d.branch7x7dbl_5',\n",
       " 'Mixed_6d.branch7x7dbl_5.conv',\n",
       " 'Mixed_6d.branch7x7dbl_5.bn',\n",
       " 'Mixed_6d.branch_pool',\n",
       " 'Mixed_6d.branch_pool.conv',\n",
       " 'Mixed_6d.branch_pool.bn',\n",
       " 'Mixed_6e',\n",
       " 'Mixed_6e.branch1x1',\n",
       " 'Mixed_6e.branch1x1.conv',\n",
       " 'Mixed_6e.branch1x1.bn',\n",
       " 'Mixed_6e.branch7x7_1',\n",
       " 'Mixed_6e.branch7x7_1.conv',\n",
       " 'Mixed_6e.branch7x7_1.bn',\n",
       " 'Mixed_6e.branch7x7_2',\n",
       " 'Mixed_6e.branch7x7_2.conv',\n",
       " 'Mixed_6e.branch7x7_2.bn',\n",
       " 'Mixed_6e.branch7x7_3',\n",
       " 'Mixed_6e.branch7x7_3.conv',\n",
       " 'Mixed_6e.branch7x7_3.bn',\n",
       " 'Mixed_6e.branch7x7dbl_1',\n",
       " 'Mixed_6e.branch7x7dbl_1.conv',\n",
       " 'Mixed_6e.branch7x7dbl_1.bn',\n",
       " 'Mixed_6e.branch7x7dbl_2',\n",
       " 'Mixed_6e.branch7x7dbl_2.conv',\n",
       " 'Mixed_6e.branch7x7dbl_2.bn',\n",
       " 'Mixed_6e.branch7x7dbl_3',\n",
       " 'Mixed_6e.branch7x7dbl_3.conv',\n",
       " 'Mixed_6e.branch7x7dbl_3.bn',\n",
       " 'Mixed_6e.branch7x7dbl_4',\n",
       " 'Mixed_6e.branch7x7dbl_4.conv',\n",
       " 'Mixed_6e.branch7x7dbl_4.bn',\n",
       " 'Mixed_6e.branch7x7dbl_5',\n",
       " 'Mixed_6e.branch7x7dbl_5.conv',\n",
       " 'Mixed_6e.branch7x7dbl_5.bn',\n",
       " 'Mixed_6e.branch_pool',\n",
       " 'Mixed_6e.branch_pool.conv',\n",
       " 'Mixed_6e.branch_pool.bn',\n",
       " 'AuxLogits',\n",
       " 'AuxLogits.conv0',\n",
       " 'AuxLogits.conv0.conv',\n",
       " 'AuxLogits.conv0.bn',\n",
       " 'AuxLogits.conv1',\n",
       " 'AuxLogits.conv1.conv',\n",
       " 'AuxLogits.conv1.bn',\n",
       " 'AuxLogits.fc',\n",
       " 'Mixed_7a',\n",
       " 'Mixed_7a.branch3x3_1',\n",
       " 'Mixed_7a.branch3x3_1.conv',\n",
       " 'Mixed_7a.branch3x3_1.bn',\n",
       " 'Mixed_7a.branch3x3_2',\n",
       " 'Mixed_7a.branch3x3_2.conv',\n",
       " 'Mixed_7a.branch3x3_2.bn',\n",
       " 'Mixed_7a.branch7x7x3_1',\n",
       " 'Mixed_7a.branch7x7x3_1.conv',\n",
       " 'Mixed_7a.branch7x7x3_1.bn',\n",
       " 'Mixed_7a.branch7x7x3_2',\n",
       " 'Mixed_7a.branch7x7x3_2.conv',\n",
       " 'Mixed_7a.branch7x7x3_2.bn',\n",
       " 'Mixed_7a.branch7x7x3_3',\n",
       " 'Mixed_7a.branch7x7x3_3.conv',\n",
       " 'Mixed_7a.branch7x7x3_3.bn',\n",
       " 'Mixed_7a.branch7x7x3_4',\n",
       " 'Mixed_7a.branch7x7x3_4.conv',\n",
       " 'Mixed_7a.branch7x7x3_4.bn',\n",
       " 'Mixed_7b',\n",
       " 'Mixed_7b.branch1x1',\n",
       " 'Mixed_7b.branch1x1.conv',\n",
       " 'Mixed_7b.branch1x1.bn',\n",
       " 'Mixed_7b.branch3x3_1',\n",
       " 'Mixed_7b.branch3x3_1.conv',\n",
       " 'Mixed_7b.branch3x3_1.bn',\n",
       " 'Mixed_7b.branch3x3_2a',\n",
       " 'Mixed_7b.branch3x3_2a.conv',\n",
       " 'Mixed_7b.branch3x3_2a.bn',\n",
       " 'Mixed_7b.branch3x3_2b',\n",
       " 'Mixed_7b.branch3x3_2b.conv',\n",
       " 'Mixed_7b.branch3x3_2b.bn',\n",
       " 'Mixed_7b.branch3x3dbl_1',\n",
       " 'Mixed_7b.branch3x3dbl_1.conv',\n",
       " 'Mixed_7b.branch3x3dbl_1.bn',\n",
       " 'Mixed_7b.branch3x3dbl_2',\n",
       " 'Mixed_7b.branch3x3dbl_2.conv',\n",
       " 'Mixed_7b.branch3x3dbl_2.bn',\n",
       " 'Mixed_7b.branch3x3dbl_3a',\n",
       " 'Mixed_7b.branch3x3dbl_3a.conv',\n",
       " 'Mixed_7b.branch3x3dbl_3a.bn',\n",
       " 'Mixed_7b.branch3x3dbl_3b',\n",
       " 'Mixed_7b.branch3x3dbl_3b.conv',\n",
       " 'Mixed_7b.branch3x3dbl_3b.bn',\n",
       " 'Mixed_7b.branch_pool',\n",
       " 'Mixed_7b.branch_pool.conv',\n",
       " 'Mixed_7b.branch_pool.bn',\n",
       " 'Mixed_7c',\n",
       " 'Mixed_7c.branch1x1',\n",
       " 'Mixed_7c.branch1x1.conv',\n",
       " 'Mixed_7c.branch1x1.bn',\n",
       " 'Mixed_7c.branch3x3_1',\n",
       " 'Mixed_7c.branch3x3_1.conv',\n",
       " 'Mixed_7c.branch3x3_1.bn',\n",
       " 'Mixed_7c.branch3x3_2a',\n",
       " 'Mixed_7c.branch3x3_2a.conv',\n",
       " 'Mixed_7c.branch3x3_2a.bn',\n",
       " 'Mixed_7c.branch3x3_2b',\n",
       " 'Mixed_7c.branch3x3_2b.conv',\n",
       " 'Mixed_7c.branch3x3_2b.bn',\n",
       " 'Mixed_7c.branch3x3dbl_1',\n",
       " 'Mixed_7c.branch3x3dbl_1.conv',\n",
       " 'Mixed_7c.branch3x3dbl_1.bn',\n",
       " 'Mixed_7c.branch3x3dbl_2',\n",
       " 'Mixed_7c.branch3x3dbl_2.conv',\n",
       " 'Mixed_7c.branch3x3dbl_2.bn',\n",
       " 'Mixed_7c.branch3x3dbl_3a',\n",
       " 'Mixed_7c.branch3x3dbl_3a.conv',\n",
       " 'Mixed_7c.branch3x3dbl_3a.bn',\n",
       " 'Mixed_7c.branch3x3dbl_3b',\n",
       " 'Mixed_7c.branch3x3dbl_3b.conv',\n",
       " 'Mixed_7c.branch3x3dbl_3b.bn',\n",
       " 'Mixed_7c.branch_pool',\n",
       " 'Mixed_7c.branch_pool.conv',\n",
       " 'Mixed_7c.branch_pool.bn',\n",
       " 'avgpool',\n",
       " 'dropout',\n",
       " 'fc']"
      ]
     },
     "execution_count": 11,
     "metadata": {},
     "output_type": "execute_result"
    }
   ],
   "source": [
    "model = torch.hub.load('pytorch/vision:v0.10.0', 'inception_v3', pretrained=True)\n",
    "model.eval()\n",
    "\n",
    "tx.list_module_names(model)\n",
    "#print(\"OK\")\n",
    "#model=model.to(\"cuda\")\n",
    "\n",
    "#summary(model,(3,299,299))\n",
    "\n",
    "##LAVORARE QUA SCELTA DELLE FEATUES"
   ]
  },
  {
   "cell_type": "code",
   "execution_count": 12,
   "id": "3503e945-abb6-41ad-94f1-e5d4a977c7fc",
   "metadata": {},
   "outputs": [],
   "source": [
    "model = tx.Extractor(model, [\"Mixed_7c\"])\n",
    "\n",
    "model=model.to(\"cuda:1\")\n",
    "\n"
   ]
  },
  {
   "cell_type": "code",
   "execution_count": 20,
   "id": "c555bf1e-c816-4769-94c6-78353330e21d",
   "metadata": {},
   "outputs": [],
   "source": [
    "_,feat=model(x.unsqueeze(0).to(device))"
   ]
  },
  {
   "cell_type": "code",
   "execution_count": 21,
   "id": "fe0a2ad1-2b6a-4167-a78f-c7b49a5f27fa",
   "metadata": {},
   "outputs": [
    {
     "name": "stdout",
     "output_type": "stream",
     "text": [
      "dict_keys(['Mixed_7c'])\n"
     ]
    },
    {
     "data": {
      "text/plain": [
       "torch.Size([1, 2048, 8, 8])"
      ]
     },
     "execution_count": 21,
     "metadata": {},
     "output_type": "execute_result"
    }
   ],
   "source": [
    "print(feat.keys())\n",
    "feat[\"Mixed_7c\"].shape"
   ]
  },
  {
   "cell_type": "markdown",
   "id": "088bbab3-42d6-4d3f-9834-daaad95c3e83",
   "metadata": {},
   "source": [
    "### extract features"
   ]
  },
  {
   "cell_type": "code",
   "execution_count": 14,
   "id": "484934e7-4ed6-4ac5-8148-2031a91a72ae",
   "metadata": {},
   "outputs": [],
   "source": [
    "class ImageDataset(Dataset):\n",
    "\n",
    "    def __init__(self, img_path_list,transform=None):\n",
    "        \"\"\"\n",
    "        load image\n",
    "        \"\"\"\n",
    "        self.img_path_list = img_path_list\n",
    "        self.transform = transform\n",
    "        \n",
    "    def __len__(self):\n",
    "        return len(self.img_path_list)\n",
    "\n",
    "    def __getitem__(self, idx):\n",
    "        \n",
    "        \n",
    "        path=self.img_path_list[idx]\n",
    "        \n",
    "        img = Image.open(path).convert('RGB') \n",
    "        \n",
    "        if self.transform:\n",
    "            img = self.transform(img)\n",
    "\n",
    "        return img,path"
   ]
  },
  {
   "cell_type": "code",
   "execution_count": 15,
   "id": "614fb3fb-c68c-4a80-8fff-c9fb6520c8b6",
   "metadata": {},
   "outputs": [
    {
     "name": "stderr",
     "output_type": "stream",
     "text": [
      "100%|██████████| 47/47 [02:50<00:00,  3.64s/it]\n"
     ]
    }
   ],
   "source": [
    "generate_features=True\n",
    "\n",
    "if generate_features:\n",
    "    os.makedirs(\"features\",exist_ok=True)\n",
    "    # Get unique images\n",
    "    encode_train = sorted(set(img_name_vector))\n",
    "\n",
    "    # Feel free to change batch_size according to your system configuration\n",
    "    image_dataset = ImageDataset(encode_train,transform=preprocess)\n",
    "    image_dataloader = DataLoader(image_dataset,batch_size=128,shuffle=True)\n",
    "\n",
    "    with torch.no_grad():\n",
    "        for img, path in tqdm.tqdm(image_dataloader):\n",
    "            \n",
    "            _,batch_features = model(img.to(device))\n",
    "            #print(batch_features[\"avgpool\"].shape)\n",
    "            batch_features=batch_features[\"Mixed_7c\"].cpu().squeeze().numpy()\n",
    "            \n",
    "            for bf, p in zip(batch_features, path):\n",
    "                \n",
    "                path_of_feature =os.path.join(\"features\",p.rsplit(\"/\")[-1])\n",
    "                np.save(path_of_feature, bf)"
   ]
  },
  {
   "cell_type": "markdown",
   "id": "4039084c-6895-4e64-a874-9cd015741528",
   "metadata": {},
   "source": [
    "## head model\n",
    "\n",
    "1) process caption"
   ]
  },
  {
   "cell_type": "code",
   "execution_count": 16,
   "id": "8728994c-5471-4047-a8e0-f4e8d0abf5f6",
   "metadata": {},
   "outputs": [],
   "source": [
    "def standardize(inputs):\n",
    "    inputs=inputs.lower()\n",
    "    return re.sub(r\"[!\\\"#$%&\\(\\)\\*\\+.,-/:;=?@\\[\\\\\\]^_`{|}~]\", \"\",inputs)\n",
    "    "
   ]
  },
  {
   "cell_type": "code",
   "execution_count": 17,
   "id": "1f9f8e3d-6034-4c62-b732-6ea9367b1025",
   "metadata": {},
   "outputs": [],
   "source": [
    "train_captions=[standardize(i) for i in train_captions]"
   ]
  },
  {
   "cell_type": "code",
   "execution_count": 172,
   "id": "2e9243b9",
   "metadata": {},
   "outputs": [
    {
     "data": {
      "text/plain": [
       "'0.11.0'"
      ]
     },
     "execution_count": 172,
     "metadata": {},
     "output_type": "execute_result"
    }
   ],
   "source": []
  },
  {
   "cell_type": "code",
   "execution_count": 32,
   "id": "8e8ea7ab-108d-4e2b-bd34-6668aabc1554",
   "metadata": {},
   "outputs": [],
   "source": [
    "tokenizer = get_tokenizer('basic_english')\n",
    "\n",
    "def yield_tokens(data_iter):\n",
    "    for text in data_iter:\n",
    "        yield tokenizer(text)\n",
    "\n",
    "#vocab = torchtext.vocab.build_vocab_from_iterator(yield_tokens(train_captions), specials=[\"<unk>\"],max_tokens=5000)\n",
    "vocab = build_vocab_from_iterator(yield_tokens(train_captions), specials=[\"<unk>\"],max_tokens=5000)\n",
    "vocab.set_default_index(vocab[\"<unk>\"])"
   ]
  },
  {
   "cell_type": "code",
   "execution_count": 33,
   "id": "b7d73afb-988b-4b12-802c-b3ad9e3bf12f",
   "metadata": {},
   "outputs": [],
   "source": [
    "word_to_index =vocab.get_stoi() \n",
    "index_to_word = vocab.get_itos()"
   ]
  },
  {
   "cell_type": "code",
   "execution_count": 36,
   "id": "88256940-6a10-4314-b092-442f50207b70",
   "metadata": {},
   "outputs": [],
   "source": [
    "cap_vector = [vocab(tokenizer(i)) for i in train_captions]"
   ]
  },
  {
   "cell_type": "markdown",
   "id": "484163ab-2256-4b02-b0ab-80002a81338f",
   "metadata": {},
   "source": [
    "## train test split data"
   ]
  },
  {
   "cell_type": "code",
   "execution_count": 37,
   "id": "bd0cac71-5a30-4202-8721-465300921207",
   "metadata": {},
   "outputs": [],
   "source": [
    "img_to_cap_vector = collections.defaultdict(list)"
   ]
  },
  {
   "cell_type": "code",
   "execution_count": 38,
   "id": "a71bb75d-977f-4729-91f9-0b5079bad189",
   "metadata": {},
   "outputs": [],
   "source": [
    "for img, cap in zip(img_name_vector, cap_vector):\n",
    "    img_to_cap_vector[img].append(cap)"
   ]
  },
  {
   "cell_type": "code",
   "execution_count": 39,
   "id": "8e62c40e-45d7-4f27-a5aa-831d76c446ad",
   "metadata": {},
   "outputs": [],
   "source": [
    "# Create training and validation sets using an 80-20 split randomly.\n",
    "img_keys = list(img_to_cap_vector.keys())\n",
    "random.shuffle(img_keys)\n",
    "\n",
    "slice_index = int(len(img_keys)*0.8)\n",
    "img_name_train_keys, img_name_val_keys = img_keys[:slice_index], img_keys[slice_index:]\n",
    "\n",
    "img_name_train = []\n",
    "cap_train = []\n",
    "for imgt in img_name_train_keys:\n",
    "    capt_len = len(img_to_cap_vector[imgt])\n",
    "    img_name_train.extend([imgt] * capt_len)\n",
    "    cap_train.extend(img_to_cap_vector[imgt])\n",
    "\n",
    "img_name_val = []\n",
    "cap_val = []\n",
    "for imgv in img_name_val_keys:\n",
    "    capv_len = len(img_to_cap_vector[imgv])\n",
    "    img_name_val.extend([imgv] * capv_len)\n",
    "    cap_val.extend(img_to_cap_vector[imgv])\n"
   ]
  },
  {
   "cell_type": "code",
   "execution_count": 40,
   "id": "63d0a31b-b3ce-453a-9fd8-1d2bb5f3f4ba",
   "metadata": {},
   "outputs": [
    {
     "data": {
      "text/plain": [
       "(24019, 24019, 6006, 6006)"
      ]
     },
     "execution_count": 40,
     "metadata": {},
     "output_type": "execute_result"
    }
   ],
   "source": [
    "len(img_name_train), len(cap_train), len(img_name_val), len(cap_val)\n"
   ]
  },
  {
   "cell_type": "code",
   "execution_count": 41,
   "id": "8e456dd5",
   "metadata": {},
   "outputs": [
    {
     "name": "stdout",
     "output_type": "stream",
     "text": [
      "Max lenght: 51\n"
     ]
    }
   ],
   "source": [
    "lens=[]\n",
    "for i in cap_train+cap_val:\n",
    "    lens.append(len(i))\n",
    "\n",
    "max_len=np.max(lens)\n",
    "print(f\"Max lenght: {max_len}\")"
   ]
  },
  {
   "cell_type": "markdown",
   "id": "bf55536f-710b-4e68-89ef-ba4642cb2214",
   "metadata": {},
   "source": [
    "### FeatureCapDataset"
   ]
  },
  {
   "cell_type": "code",
   "execution_count": 42,
   "id": "0d119913-c89d-42ae-b081-a8877a40a422",
   "metadata": {},
   "outputs": [],
   "source": [
    "class FeatureCaptionDataset(Dataset):\n",
    "\n",
    "    def __init__(self, img_list,cap_list,max_len=51):\n",
    "        \"\"\"\n",
    "        load image\n",
    "        \"\"\"\n",
    "        self.img_list = img_list\n",
    "        self.cap_list = cap_list\n",
    "        self.max_len=max_len\n",
    "        \n",
    "    def __len__(self):\n",
    "        return len(self.img_list)\n",
    "\n",
    "    def __getitem__(self, idx):\n",
    "        \n",
    "        path= \"features/\"+self.img_list[idx].rsplit(\"/\")[-1]+\".npy\"\n",
    "        img_tensor=torch.Tensor(np.load(path,allow_pickle=True))\n",
    "        cap=self.cap_list[idx]\n",
    "        cap=torch.Tensor(cap).long()\n",
    "\n",
    "        ##padding\n",
    "        # \n",
    "        diff=self.max_len-len(cap)\n",
    "        if diff:\n",
    "            cap=torch.nn.functional.pad(cap,(0,diff),\"constant\",cap[-1])\n",
    "\n",
    "        \n",
    "        return img_tensor,cap"
   ]
  },
  {
   "cell_type": "code",
   "execution_count": 43,
   "id": "198a9779-8e4f-4957-a932-63cffea8aa2d",
   "metadata": {},
   "outputs": [],
   "source": [
    "train_feature_dataset=FeatureCaptionDataset(img_name_train,cap_train,max_len=max_len)\n",
    "train_features_dataloader=DataLoader(train_feature_dataset,batch_size=16,shuffle=True)\n"
   ]
  },
  {
   "cell_type": "code",
   "execution_count": 44,
   "id": "9ff2ceff-706f-47e1-bd70-c750fd2b6c38",
   "metadata": {},
   "outputs": [],
   "source": [
    "x,y=next(iter(train_feature_dataset))"
   ]
  },
  {
   "cell_type": "markdown",
   "id": "4b06fa91-7918-4a32-bcda-5836618d64cc",
   "metadata": {},
   "source": [
    "## Write the model"
   ]
  },
  {
   "cell_type": "code",
   "execution_count": 45,
   "id": "1d0722a4-49c7-4232-86cd-ff08a473d2e2",
   "metadata": {},
   "outputs": [],
   "source": [
    "class BahdanauAttention(nn.Module):\n",
    "\n",
    "    def __init__(self,units):\n",
    "        super().__init__()\n",
    "\n",
    "        self.W1=nn.LazyLinear(units)\n",
    "        self.W2=nn.LazyLinear(units)\n",
    "        self.V=nn.LazyLinear(1)\n",
    "\n",
    "        self.act=nn.Tanh()\n",
    "        self.softmax=nn.Softmax(dim=1)\n",
    "\n",
    "\n",
    "    def forward(self,features,hidden):\n",
    "\n",
    "        #featuresshape (BS, 64,embedding_dim)\n",
    "        #hidden shape  (BS,hidden_size) -> unsqueeze on dim 1 (time)\n",
    "        hidden=hidden.unsqueeze(1)\n",
    "        attention_hidden_layer=self.W1(features)+self.W2(hidden)\n",
    "        attention_hidden_layer=self.act(attention_hidden_layer)\n",
    "\n",
    "        #score\n",
    "        score=self.V(attention_hidden_layer)\n",
    "\n",
    "  #      print(f\"ATTENTION: {attention_hidden_layer.shape} should be (BS,64,units)\" )\n",
    " #       print(f\"SCORE: {score.shape} should be (BS,64,1)\")\n",
    "        \n",
    "\n",
    "        attention_weigths=self.softmax(score)\n",
    "        \n",
    "        context=attention_weigths*features\n",
    "\n",
    "        context = context.sum(dim=1)\n",
    "\n",
    "#        print(f\"CONTEXT: {context.shape} should be (BS,hidden_size)\")\n",
    "\n",
    "\n",
    "        return context,attention_weigths\n"
   ]
  },
  {
   "cell_type": "code",
   "execution_count": 46,
   "id": "36cedd0d",
   "metadata": {},
   "outputs": [],
   "source": [
    "class CNNEncoder(nn.Module):\n",
    "\n",
    "    def __init__(self,embedding_dim):\n",
    "\n",
    "        \"\"\"just encode the data\"\"\"\n",
    "        super().__init__()\n",
    "        self.emb_dim=embedding_dim\n",
    "        self.lin=nn.LazyLinear(embedding_dim)\n",
    "        self.act=nn.ReLU()\n",
    "        #self.model=nn.Sequential(nn.LazyLinear(embedding_dim),nn.ReLU())\n",
    "\n",
    "\n",
    "    def forward(self,x):\n",
    "        x=x.reshape(-1,2048,64)\n",
    "        x=x.transpose(1,2)\n",
    "        x=self.lin(x)\n",
    "        x=self.act(x)\n",
    "        return x"
   ]
  },
  {
   "cell_type": "code",
   "execution_count": 47,
   "id": "ffabd273",
   "metadata": {},
   "outputs": [],
   "source": [
    "class RNNDecoder(nn.Module):\n",
    "\n",
    "    def __init__(self,embedding_dim,units,vocab_size):\n",
    "        super().__init__()\n",
    "\n",
    "        self.units=units\n",
    "        self.embedding_dim=embedding_dim\n",
    "        self.vocab_size=vocab_size\n",
    "\n",
    "        self.embedding=nn.Embedding(vocab_size,embedding_dim)\n",
    "        self.gru=nn.GRU(self.units,self.units,batch_first=True)\n",
    "        self.fc1=nn.LazyLinear(self.units)\n",
    "        self.fc2=nn.Linear(self.units,self.vocab_size) ##output layer\n",
    "\n",
    "        self.attention=BahdanauAttention(self.units)\n",
    "        self.softmax=nn.Softmax()\n",
    "\n",
    "    def forward(self,x,features,hidden):\n",
    "\n",
    "        #pay attention on image features\n",
    "        context,attention_weights=self.attention(features,hidden)\n",
    "\n",
    "        \n",
    "        x=self.embedding(x)\n",
    "\n",
    "        if len(x.shape)==2:\n",
    "            x=x.unsqueeze(1)\n",
    "\n",
    "\n",
    "        if len(context.shape)==2:\n",
    "            context=context.unsqueeze(1)\n",
    "\n",
    "        #print(f\"data, context shapes:  {x.shape,context.shape}\")\n",
    "\n",
    "        x=torch.cat((context,x),dim=-1)\n",
    "\n",
    "        #print(f\"CAT: {x.shape} should be (batch_size,1,embedding_dim+hidden__size)\")\n",
    "\n",
    "\n",
    "\n",
    "        #elaborate signal\n",
    "        output,state=self.gru(x)\n",
    "\n",
    "        #print(f\"OUT,STATE {output.shape}, {state.shape}\")\n",
    "\n",
    "        x=self.fc1(output)\n",
    "\n",
    "        #print(f\"FC1: {x.shape} should be (batch_size, max_length, hidden_size\")\n",
    "\n",
    "\n",
    "        x=self.fc2(x)\n",
    "        x=self.softmax(x)\n",
    "\n",
    "        #print(f\"OUTSHAPE: {x.shape} should be (batch_size * max_length, vocab)\")\n",
    "\n",
    "        return x,state,attention_weights\n",
    "    def reset_state(self,batch_size):\n",
    "        return torch.zeros((batch_size,self.units))\n"
   ]
  },
  {
   "cell_type": "code",
   "execution_count": 48,
   "id": "0095b466",
   "metadata": {},
   "outputs": [
    {
     "name": "stderr",
     "output_type": "stream",
     "text": [
      "/home/matteo/anaconda3/envs/pytorch/lib/python3.9/site-packages/torch/nn/modules/lazy.py:178: UserWarning: Lazy modules are a new feature under heavy development so changes to the API or functionality can happen at any moment.\n",
      "  warnings.warn('Lazy modules are a new feature under heavy development '\n"
     ]
    }
   ],
   "source": [
    "embedding_dim = 256\n",
    "units = 512\n",
    "\n",
    "encoder=CNNEncoder(embedding_dim)\n",
    "decoder=RNNDecoder(embedding_dim, units, len(word_to_index.keys()))"
   ]
  },
  {
   "cell_type": "code",
   "execution_count": 49,
   "id": "6314cf08",
   "metadata": {},
   "outputs": [],
   "source": [
    "\n",
    "x,y=next(iter(train_features_dataloader))"
   ]
  },
  {
   "cell_type": "code",
   "execution_count": 50,
   "id": "d912ddc1",
   "metadata": {},
   "outputs": [
    {
     "data": {
      "text/plain": [
       "(torch.Size([16, 64, 256]), torch.Size([16, 512]))"
      ]
     },
     "execution_count": 50,
     "metadata": {},
     "output_type": "execute_result"
    }
   ],
   "source": [
    "attention=BahdanauAttention(units)\n",
    "\n",
    "features=encoder(x)\n",
    "hidden=decoder.reset_state(batch_size=x.shape[0])\n",
    "context,attention_weights=attention(features,hidden)\n",
    "\n",
    "features.shape,hidden.shape"
   ]
  },
  {
   "cell_type": "markdown",
   "id": "1913a28f",
   "metadata": {},
   "source": [
    "## CaptionModel"
   ]
  },
  {
   "cell_type": "code",
   "execution_count": 51,
   "id": "92b2b03b",
   "metadata": {},
   "outputs": [],
   "source": [
    "class CaptionModel(nn.Module):\n",
    "\n",
    "    \"\"\"Here the core of the code!\"\"\"\n",
    "\n",
    "    def __init__(self,encoder,decoder,max_len,device=device):\n",
    "        \n",
    "        super().__init__()\n",
    "        self.encoder=encoder\n",
    "        self.decoder=decoder\n",
    "        self.max_len=max_len\n",
    "        self.device=device\n",
    "\n",
    "    def forward(self,x):\n",
    "        x=self.encoder(x)\n",
    "        \n",
    "        hidden=self.decoder.reset_state(batch_size=x.shape[0]).to(device)\n",
    "        dec_input=torch.Tensor([word_to_index['<start>']]*x.shape[0]).long().unsqueeze(1).to(self.device)\n",
    "\n",
    "        attentions=[torch.zeros(16,64,1).to(self.device)]\n",
    "        captions=[dec_input]\n",
    "        for i in range(1,self.max_len):\n",
    "            \n",
    "\n",
    "            \n",
    "            predictions,hidden,attn_weights=self.decoder(dec_input,x,hidden)\n",
    "            captions.append(predictions.argmax(dim=-1))\n",
    "            attentions.append(attn_weights)\n",
    "            hidden=hidden.squeeze()\n",
    "\n",
    "        #reset batch first\n",
    "\n",
    "\n",
    "        return torch.stack(captions,dim=1),torch.stack(attentions,dim=1)\n",
    "\n",
    "\n",
    "    def train_step(self,img_tensor,target,criterion,optimizer):\n",
    "\n",
    "        device=self.device\n",
    "        optimizer.zero_grad()\n",
    "        #reset hidden state\n",
    "        hidden=self.decoder.reset_state(batch_size=target.shape[0]).to(device)\n",
    "\n",
    "        #input are index of start so BS times index('<start>')\n",
    "        dec_input=torch.Tensor([word_to_index['<start>']]*target.shape[0]).long().unsqueeze(1).to(device)\n",
    "\n",
    "        features=self.encoder(img_tensor)\n",
    "        loss=0\n",
    "\n",
    "\n",
    "        for i in range(1,target.shape[1]):\n",
    "            \n",
    "            #print(f\"pass {i} - dec_input {dec_input.shape} hidden {hidden.shape}\")\n",
    "            \n",
    "\n",
    "            #pass features to decoder\n",
    "\n",
    "            predictions,hidden,attn_weights=self.decoder(dec_input,features,hidden)\n",
    "\n",
    "            #print(f\"out_hidden: {hidden.shape}\")\n",
    "            #compute loss\n",
    "            loss+=criterion(predictions.squeeze(),target[:,i])\n",
    "\n",
    "            #teacher forcing\n",
    "            hidden=hidden.squeeze()\n",
    "\n",
    "            dec_input = target[:,i].unsqueeze(1)\n",
    "            \n",
    "        \n",
    "        loss.backward()\n",
    "        optimizer.step()\n",
    "        \n",
    "        total_loss = (loss.item() / int(target.shape[1]))\n",
    "        \n",
    "        return loss.item(), total_loss\n",
    "\n",
    "\n"
   ]
  },
  {
   "cell_type": "code",
   "execution_count": 52,
   "id": "85ab0303",
   "metadata": {},
   "outputs": [],
   "source": [
    "torch.cuda.empty_cache()\n",
    "cap_model=CaptionModel(encoder,decoder,max_len=max_len)\n",
    "cap_model=cap_model.to(device)"
   ]
  },
  {
   "cell_type": "code",
   "execution_count": 53,
   "id": "a81adb98",
   "metadata": {},
   "outputs": [
    {
     "name": "stderr",
     "output_type": "stream",
     "text": [
      "<ipython-input-47-8f640c47c0d3>:52: UserWarning: Implicit dimension choice for softmax has been deprecated. Change the call to include dim=X as an argument.\n",
      "  x=self.softmax(x)\n"
     ]
    }
   ],
   "source": [
    "\n",
    "captions,attentions=cap_model(x.to(device))\n",
    "#print(f\"Expected: (BS,max_len), (BS,64) got : {captions.shape}, {attentions.shape}\")"
   ]
  },
  {
   "cell_type": "markdown",
   "id": "56d7f9e8",
   "metadata": {},
   "source": [
    "## Optimizer and criterion"
   ]
  },
  {
   "cell_type": "code",
   "execution_count": 54,
   "id": "176ab055",
   "metadata": {},
   "outputs": [],
   "source": [
    "criterion=nn.CrossEntropyLoss()\n",
    "optimizer=torch.optim.Adam(cap_model.parameters(),lr=1e-4)\n",
    "\n"
   ]
  },
  {
   "cell_type": "code",
   "execution_count": 55,
   "id": "1c205d13",
   "metadata": {},
   "outputs": [],
   "source": [
    "def train_epoch(model,train_dataloader,criterion,optimizer,device=device):\n",
    "    loss_tmp=[]\n",
    "    total_loss=0\n",
    "\n",
    "    model.train()\n",
    "    n=0\n",
    "    for x,y in tqdm.tqdm(train_dataloader):\n",
    "\n",
    "        x,y=x.to(device),y.to(device)\n",
    "        loss,t_loss=model.train_step(x,y,criterion=criterion,optimizer=optimizer)\n",
    "        total_loss+=t_loss\n",
    "        loss_tmp.append(loss)\n",
    "        n+=1\n",
    "\n",
    "    return np.mean(loss_tmp),total_loss/n\n",
    "\n",
    "\n"
   ]
  },
  {
   "cell_type": "code",
   "execution_count": 56,
   "id": "b021bceb",
   "metadata": {},
   "outputs": [
    {
     "name": "stderr",
     "output_type": "stream",
     "text": [
      "  0%|          | 0/1502 [00:00<?, ?it/s]<ipython-input-47-8f640c47c0d3>:52: UserWarning: Implicit dimension choice for softmax has been deprecated. Change the call to include dim=X as an argument.\n",
      "  x=self.softmax(x)\n",
      "100%|██████████| 1502/1502 [03:43<00:00,  6.73it/s]\n"
     ]
    },
    {
     "name": "stdout",
     "output_type": "stream",
     "text": [
      "epoch 1/20 loss: 8.338440806313978\n"
     ]
    },
    {
     "name": "stderr",
     "output_type": "stream",
     "text": [
      "100%|██████████| 1502/1502 [03:49<00:00,  6.55it/s]\n"
     ]
    },
    {
     "name": "stdout",
     "output_type": "stream",
     "text": [
      "epoch 2/20 loss: 8.324799019824555\n"
     ]
    },
    {
     "name": "stderr",
     "output_type": "stream",
     "text": [
      "100%|██████████| 1502/1502 [04:03<00:00,  6.16it/s]\n"
     ]
    },
    {
     "name": "stdout",
     "output_type": "stream",
     "text": [
      "epoch 3/20 loss: 8.319367672960635\n"
     ]
    },
    {
     "name": "stderr",
     "output_type": "stream",
     "text": [
      "100%|██████████| 1502/1502 [03:59<00:00,  6.28it/s]\n"
     ]
    },
    {
     "name": "stdout",
     "output_type": "stream",
     "text": [
      "epoch 4/20 loss: 8.31594431437337\n"
     ]
    },
    {
     "name": "stderr",
     "output_type": "stream",
     "text": [
      "100%|██████████| 1502/1502 [03:34<00:00,  7.01it/s]\n"
     ]
    },
    {
     "name": "stdout",
     "output_type": "stream",
     "text": [
      "epoch 5/20 loss: 8.314435120895794\n"
     ]
    },
    {
     "name": "stderr",
     "output_type": "stream",
     "text": [
      "100%|██████████| 1502/1502 [04:12<00:00,  5.94it/s]\n"
     ]
    },
    {
     "name": "stdout",
     "output_type": "stream",
     "text": [
      "epoch 6/20 loss: 8.313124657000934\n"
     ]
    },
    {
     "name": "stderr",
     "output_type": "stream",
     "text": [
      "100%|██████████| 1502/1502 [04:16<00:00,  5.86it/s]\n"
     ]
    },
    {
     "name": "stdout",
     "output_type": "stream",
     "text": [
      "epoch 7/20 loss: 8.311617170232127\n"
     ]
    },
    {
     "name": "stderr",
     "output_type": "stream",
     "text": [
      "100%|██████████| 1502/1502 [04:13<00:00,  5.92it/s]\n"
     ]
    },
    {
     "name": "stdout",
     "output_type": "stream",
     "text": [
      "epoch 8/20 loss: 8.310273698016104\n"
     ]
    },
    {
     "name": "stderr",
     "output_type": "stream",
     "text": [
      "100%|██████████| 1502/1502 [04:21<00:00,  5.75it/s]\n"
     ]
    },
    {
     "name": "stdout",
     "output_type": "stream",
     "text": [
      "epoch 9/20 loss: 8.310377180182604\n"
     ]
    },
    {
     "name": "stderr",
     "output_type": "stream",
     "text": [
      "100%|██████████| 1502/1502 [04:33<00:00,  5.49it/s]\n"
     ]
    },
    {
     "name": "stdout",
     "output_type": "stream",
     "text": [
      "epoch 10/20 loss: 8.308436749526209\n"
     ]
    },
    {
     "name": "stderr",
     "output_type": "stream",
     "text": [
      "100%|██████████| 1502/1502 [03:23<00:00,  7.37it/s]\n"
     ]
    },
    {
     "name": "stdout",
     "output_type": "stream",
     "text": [
      "epoch 11/20 loss: 8.307056836847112\n"
     ]
    },
    {
     "name": "stderr",
     "output_type": "stream",
     "text": [
      "100%|██████████| 1502/1502 [03:25<00:00,  7.31it/s]\n"
     ]
    },
    {
     "name": "stdout",
     "output_type": "stream",
     "text": [
      "epoch 12/20 loss: 8.307110484233215\n"
     ]
    },
    {
     "name": "stderr",
     "output_type": "stream",
     "text": [
      "100%|██████████| 1502/1502 [03:04<00:00,  8.15it/s]\n"
     ]
    },
    {
     "name": "stdout",
     "output_type": "stream",
     "text": [
      "epoch 13/20 loss: 8.306581311292998\n"
     ]
    },
    {
     "name": "stderr",
     "output_type": "stream",
     "text": [
      "100%|██████████| 1502/1502 [03:06<00:00,  8.04it/s]\n"
     ]
    },
    {
     "name": "stdout",
     "output_type": "stream",
     "text": [
      "epoch 14/20 loss: 8.304798980272274\n"
     ]
    },
    {
     "name": "stderr",
     "output_type": "stream",
     "text": [
      "100%|██████████| 1502/1502 [03:08<00:00,  7.97it/s]\n"
     ]
    },
    {
     "name": "stdout",
     "output_type": "stream",
     "text": [
      "epoch 15/20 loss: 8.304924974740093\n"
     ]
    },
    {
     "name": "stderr",
     "output_type": "stream",
     "text": [
      "100%|██████████| 1502/1502 [03:13<00:00,  7.75it/s]\n"
     ]
    },
    {
     "name": "stdout",
     "output_type": "stream",
     "text": [
      "epoch 16/20 loss: 8.304389459807146\n"
     ]
    },
    {
     "name": "stderr",
     "output_type": "stream",
     "text": [
      "100%|██████████| 1502/1502 [03:13<00:00,  7.76it/s]\n"
     ]
    },
    {
     "name": "stdout",
     "output_type": "stream",
     "text": [
      "epoch 17/20 loss: 8.303219565529501\n"
     ]
    },
    {
     "name": "stderr",
     "output_type": "stream",
     "text": [
      "100%|██████████| 1502/1502 [02:49<00:00,  8.86it/s]\n"
     ]
    },
    {
     "name": "stdout",
     "output_type": "stream",
     "text": [
      "epoch 18/20 loss: 8.303457343843805\n"
     ]
    },
    {
     "name": "stderr",
     "output_type": "stream",
     "text": [
      "100%|██████████| 1502/1502 [02:57<00:00,  8.45it/s]\n"
     ]
    },
    {
     "name": "stdout",
     "output_type": "stream",
     "text": [
      "epoch 19/20 loss: 8.302365174533431\n"
     ]
    },
    {
     "name": "stderr",
     "output_type": "stream",
     "text": [
      "100%|██████████| 1502/1502 [02:58<00:00,  8.42it/s]\n"
     ]
    },
    {
     "name": "stdout",
     "output_type": "stream",
     "text": [
      "epoch 20/20 loss: 8.300615636304112\n"
     ]
    }
   ],
   "source": [
    "EPOCHS=20\n",
    "loss_history=[]\n",
    "for epoch in range(EPOCHS):\n",
    "\n",
    "    ##train \n",
    "\n",
    "    loss,total_loss=train_epoch(cap_model,train_dataloader=train_features_dataloader,criterion=criterion,optimizer=optimizer)\n",
    "    print(f\"epoch {epoch+1}/{EPOCHS} loss: {total_loss}\")\n",
    "    loss_history.append(loss)\n",
    "\n",
    "    torch.save(cap_model.state_dict(),\"cap_model.pt\")\n",
    "\n",
    "\n"
   ]
  },
  {
   "cell_type": "code",
   "execution_count": 58,
   "id": "fdc6c413",
   "metadata": {},
   "outputs": [
    {
     "data": {
      "image/png": "[encoded data removed]",
      "text/plain": [
       "<Figure size 640x480 with 1 Axes>"
      ]
     },
     "metadata": {},
     "output_type": "display_data"
    }
   ],
   "source": [
    "plt.plot(loss_history)\n",
    "plt.show()"
   ]
  },
  {
   "cell_type": "code",
   "execution_count": 59,
   "id": "2fc2da5d",
   "metadata": {},
   "outputs": [
    {
     "name": "stderr",
     "output_type": "stream",
     "text": [
      "<ipython-input-47-8f640c47c0d3>:52: UserWarning: Implicit dimension choice for softmax has been deprecated. Change the call to include dim=X as an argument.\n",
      "  x=self.softmax(x)\n"
     ]
    }
   ],
   "source": [
    "x,y=next(iter(train_features_dataloader))\n",
    "captions,attentions=cap_model(x.to(device))\n",
    "\n",
    "\n",
    "captions=captions.squeeze()"
   ]
  },
  {
   "cell_type": "code",
   "execution_count": 60,
   "id": "da515e5b",
   "metadata": {},
   "outputs": [
    {
     "data": {
      "text/plain": [
       "(tensor([   3,   15,  786,  206,  114, 1121,  284,   55,   18,    4,    1,   24,\n",
       "            2,    2,    2,    2,    2,    2,    2,    2,    2,    2,    2,    2,\n",
       "            2,    2,    2,    2,    2,    2,    2,    2,    2,    2,    2,    2,\n",
       "            2,    2,    2,    2,    2,    2,    2,    2,    2,    2,    2,    2,\n",
       "            2,    2,    2]),\n",
       " tensor([3, 2, 2, 2, 2, 2, 2, 2, 2, 2, 2, 2, 2, 2, 2, 2, 2, 2, 2, 2, 2, 2, 2, 2,\n",
       "         2, 2, 2, 2, 2, 2, 2, 2, 2, 2, 2, 2, 2, 2, 2, 2, 2, 2, 2, 2, 2, 2, 2, 2,\n",
       "         2, 2, 2], device='cuda:1'))"
      ]
     },
     "execution_count": 60,
     "metadata": {},
     "output_type": "execute_result"
    }
   ],
   "source": [
    "id=3\n",
    "y[id],captions[id]"
   ]
  }
 ],
 "metadata": {
  "kernelspec": {
   "display_name": "pytorch",
   "language": "python",
   "name": "pytorch"
  },
  "language_info": {
   "codemirror_mode": {
    "name": "ipython",
    "version": 3
   },
   "file_extension": ".py",
   "mimetype": "text/x-python",
   "name": "python",
   "nbconvert_exporter": "python",
   "pygments_lexer": "ipython3",
   "version": "3.9.6"
  }
 },
 "nbformat": 4,
 "nbformat_minor": 5
}
